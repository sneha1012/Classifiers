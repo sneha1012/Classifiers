{
  "nbformat": 4,
  "nbformat_minor": 0,
  "metadata": {
    "colab": {
      "provenance": [],
      "authorship_tag": "ABX9TyMa0a6zgW8T2aQbuwlH3F2y",
      "include_colab_link": true
    },
    "kernelspec": {
      "name": "python3",
      "display_name": "Python 3"
    },
    "language_info": {
      "name": "python"
    }
  },
  "cells": [
    {
      "cell_type": "markdown",
      "metadata": {
        "id": "view-in-github",
        "colab_type": "text"
      },
      "source": [
        "<a href=\"https://colab.research.google.com/github/sneha1012/Classifiers/blob/main/ML_Classifier.ipynb\" target=\"_parent\"><img src=\"https://colab.research.google.com/assets/colab-badge.svg\" alt=\"Open In Colab\"/></a>"
      ]
    },
    {
      "cell_type": "code",
      "execution_count": 96,
      "metadata": {
        "id": "z2r7iYi4LiyK"
      },
      "outputs": [],
      "source": [
        "import tensorflow as tf\n",
        "import tensorflow_datasets as tfds"
      ]
    },
    {
      "cell_type": "code",
      "source": [
        "(ds_train, ds_test), ds_info = tfds.load(\n",
        "    'mnist',\n",
        "    split=['train', 'test'],\n",
        "    shuffle_files=True,\n",
        "    as_supervised=True,\n",
        "    with_info=True,\n",
        ")"
      ],
      "metadata": {
        "id": "-352aHufMH16"
      },
      "execution_count": 97,
      "outputs": []
    },
    {
      "cell_type": "code",
      "source": [
        "def normalize_img(image, label):\n",
        "  \"\"\"Normalizes images: `uint8` -> `float32`.\"\"\"\n",
        "  return tf.cast(image, tf.float32) / 255., label\n",
        "\n",
        "ds_train = ds_train.map(\n",
        "    normalize_img, num_parallel_calls=tf.data.AUTOTUNE)\n",
        "ds_train = ds_train.cache()\n",
        "ds_train = ds_train.shuffle(ds_info.splits['train'].num_examples)\n",
        "ds_train = ds_train.batch(128)\n",
        "ds_train = ds_train.prefetch(tf.data.AUTOTUNE)"
      ],
      "metadata": {
        "id": "3zFDrRMqMUVr"
      },
      "execution_count": 98,
      "outputs": []
    },
    {
      "cell_type": "code",
      "source": [
        "ds_test = ds_test.map(\n",
        "    normalize_img, num_parallel_calls=tf.data.AUTOTUNE)\n",
        "ds_test = ds_test.batch(128)\n",
        "ds_test = ds_test.cache()\n",
        "ds_test = ds_test.prefetch(tf.data.AUTOTUNE)"
      ],
      "metadata": {
        "id": "QQF9_DU9MaMU"
      },
      "execution_count": 99,
      "outputs": []
    },
    {
      "cell_type": "code",
      "source": [
        "model = tf.keras.models.Sequential([\n",
        "  tf.keras.layers.Flatten(input_shape=(28, 28)),\n",
        "  tf.keras.layers.BatchNormalization(),\n",
        "  tf.keras.layers.Dense(784, activation='relu'),\n",
        "  tf.keras.layers.Dense(128, activation='relu'),\n",
        "  tf.keras.layers.Dense(10,activation='softmax')\n",
        "])\n",
        "model.compile(\n",
        "    optimizer=tf.keras.optimizers.Adam(0.001),\n",
        "    loss=tf.keras.losses.SparseCategoricalCrossentropy(from_logits=True),\n",
        "    metrics=[tf.keras.metrics.SparseCategoricalAccuracy()],\n",
        ")\n",
        "\n",
        "model.fit(\n",
        "    ds_train,\n",
        "    epochs=20,\n",
        "    validation_data=ds_test,\n",
        ")"
      ],
      "metadata": {
        "colab": {
          "base_uri": "https://localhost:8080/"
        },
        "id": "d0nEc_-gNTbP",
        "outputId": "b38375d1-d4c8-448a-f0a2-0fac17b9be95"
      },
      "execution_count": 105,
      "outputs": [
        {
          "output_type": "stream",
          "name": "stdout",
          "text": [
            "Epoch 1/20\n"
          ]
        },
        {
          "output_type": "stream",
          "name": "stderr",
          "text": [
            "/usr/local/lib/python3.10/dist-packages/keras/backend.py:5612: UserWarning: \"`sparse_categorical_crossentropy` received `from_logits=True`, but the `output` argument was produced by a Softmax activation and thus does not represent logits. Was this intended?\n",
            "  output, from_logits = _get_logits(\n"
          ]
        },
        {
          "output_type": "stream",
          "name": "stdout",
          "text": [
            "469/469 [==============================] - 9s 17ms/step - loss: 0.1924 - sparse_categorical_accuracy: 0.9409 - val_loss: 0.1001 - val_sparse_categorical_accuracy: 0.9685\n",
            "Epoch 2/20\n",
            "469/469 [==============================] - 9s 18ms/step - loss: 0.0789 - sparse_categorical_accuracy: 0.9750 - val_loss: 0.1008 - val_sparse_categorical_accuracy: 0.9719\n",
            "Epoch 3/20\n",
            "469/469 [==============================] - 8s 17ms/step - loss: 0.0470 - sparse_categorical_accuracy: 0.9847 - val_loss: 0.0956 - val_sparse_categorical_accuracy: 0.9741\n",
            "Epoch 4/20\n",
            "469/469 [==============================] - 8s 17ms/step - loss: 0.0345 - sparse_categorical_accuracy: 0.9884 - val_loss: 0.0933 - val_sparse_categorical_accuracy: 0.9756\n",
            "Epoch 5/20\n",
            "469/469 [==============================] - 7s 16ms/step - loss: 0.0271 - sparse_categorical_accuracy: 0.9909 - val_loss: 0.0955 - val_sparse_categorical_accuracy: 0.9759\n",
            "Epoch 6/20\n",
            "469/469 [==============================] - 8s 16ms/step - loss: 0.0237 - sparse_categorical_accuracy: 0.9916 - val_loss: 0.1061 - val_sparse_categorical_accuracy: 0.9724\n",
            "Epoch 7/20\n",
            "469/469 [==============================] - 9s 20ms/step - loss: 0.0178 - sparse_categorical_accuracy: 0.9942 - val_loss: 0.1185 - val_sparse_categorical_accuracy: 0.9745\n",
            "Epoch 8/20\n",
            "469/469 [==============================] - 9s 18ms/step - loss: 0.0216 - sparse_categorical_accuracy: 0.9930 - val_loss: 0.1056 - val_sparse_categorical_accuracy: 0.9766\n",
            "Epoch 9/20\n",
            "469/469 [==============================] - 8s 16ms/step - loss: 0.0191 - sparse_categorical_accuracy: 0.9937 - val_loss: 0.1066 - val_sparse_categorical_accuracy: 0.9785\n",
            "Epoch 10/20\n",
            "469/469 [==============================] - 8s 18ms/step - loss: 0.0162 - sparse_categorical_accuracy: 0.9945 - val_loss: 0.1018 - val_sparse_categorical_accuracy: 0.9772\n",
            "Epoch 11/20\n",
            "469/469 [==============================] - 8s 18ms/step - loss: 0.0111 - sparse_categorical_accuracy: 0.9961 - val_loss: 0.1317 - val_sparse_categorical_accuracy: 0.9770\n",
            "Epoch 12/20\n",
            "469/469 [==============================] - 8s 18ms/step - loss: 0.0152 - sparse_categorical_accuracy: 0.9953 - val_loss: 0.1231 - val_sparse_categorical_accuracy: 0.9767\n",
            "Epoch 13/20\n",
            "469/469 [==============================] - 8s 16ms/step - loss: 0.0169 - sparse_categorical_accuracy: 0.9948 - val_loss: 0.1183 - val_sparse_categorical_accuracy: 0.9778\n",
            "Epoch 14/20\n",
            "469/469 [==============================] - 8s 16ms/step - loss: 0.0118 - sparse_categorical_accuracy: 0.9966 - val_loss: 0.1191 - val_sparse_categorical_accuracy: 0.9796\n",
            "Epoch 15/20\n",
            "469/469 [==============================] - 8s 16ms/step - loss: 0.0114 - sparse_categorical_accuracy: 0.9960 - val_loss: 0.1286 - val_sparse_categorical_accuracy: 0.9791\n",
            "Epoch 16/20\n",
            "469/469 [==============================] - 8s 18ms/step - loss: 0.0099 - sparse_categorical_accuracy: 0.9971 - val_loss: 0.1408 - val_sparse_categorical_accuracy: 0.9767\n",
            "Epoch 17/20\n",
            "469/469 [==============================] - 8s 18ms/step - loss: 0.0129 - sparse_categorical_accuracy: 0.9960 - val_loss: 0.1110 - val_sparse_categorical_accuracy: 0.9805\n",
            "Epoch 18/20\n",
            "469/469 [==============================] - 8s 18ms/step - loss: 0.0096 - sparse_categorical_accuracy: 0.9970 - val_loss: 0.1329 - val_sparse_categorical_accuracy: 0.9777\n",
            "Epoch 19/20\n",
            "469/469 [==============================] - 8s 17ms/step - loss: 0.0112 - sparse_categorical_accuracy: 0.9967 - val_loss: 0.1277 - val_sparse_categorical_accuracy: 0.9793\n",
            "Epoch 20/20\n",
            "469/469 [==============================] - 8s 17ms/step - loss: 0.0098 - sparse_categorical_accuracy: 0.9970 - val_loss: 0.1400 - val_sparse_categorical_accuracy: 0.9781\n"
          ]
        },
        {
          "output_type": "execute_result",
          "data": {
            "text/plain": [
              "<keras.callbacks.History at 0x7f135b417640>"
            ]
          },
          "metadata": {},
          "execution_count": 105
        }
      ]
    },
    {
      "cell_type": "code",
      "source": [
        "import cv2\n",
        "test_data = cv2.imread('/content/2.png')\n",
        "gray_data = cv2.cvtColor(test_data, cv2.COLOR_BGR2GRAY)\n",
        "final_data = cv2.resize(gray_data,(28,28))"
      ],
      "metadata": {
        "id": "lXBQid7RSXu5"
      },
      "execution_count": 101,
      "outputs": []
    },
    {
      "cell_type": "code",
      "source": [
        "from google.colab.patches import cv2_imshow\n",
        "cv2_imshow(final_data)"
      ],
      "metadata": {
        "colab": {
          "base_uri": "https://localhost:8080/",
          "height": 45
        },
        "id": "VTskUbhBThvz",
        "outputId": "d4bd42a9-13cb-4570-ddb4-a38ea7fde6f4"
      },
      "execution_count": 102,
      "outputs": [
        {
          "output_type": "display_data",
          "data": {
            "text/plain": [
              "<PIL.Image.Image image mode=L size=28x28 at 0x7F1368C82CB0>"
            ],
            "image/png": "[encoded data removed]"
          },
          "metadata": {}
        }
      ]
    },
    {
      "cell_type": "code",
      "source": [
        "tensor_test = tf.convert_to_tensor(final_data)\n",
        "tensor_test = tf.reshape(tensor_test,(1,28,28))"
      ],
      "metadata": {
        "id": "5HC1-zUrUQgj"
      },
      "execution_count": 103,
      "outputs": []
    },
    {
      "cell_type": "code",
      "source": [
        "model.predict(tensor_test)"
      ],
      "metadata": {
        "colab": {
          "base_uri": "https://localhost:8080/"
        },
        "id": "61uCo-FWU85S",
        "outputId": "b16fbf48-dd10-4e5c-d1be-a1d67e9b2dcb"
      },
      "execution_count": 104,
      "outputs": [
        {
          "output_type": "stream",
          "name": "stdout",
          "text": [
            "1/1 [==============================] - 0s 55ms/step\n"
          ]
        },
        {
          "output_type": "execute_result",
          "data": {
            "text/plain": [
              "array([[0., 0., 0., 0., 0., 1., 0., 0., 0., 0.]], dtype=float32)"
            ]
          },
          "metadata": {},
          "execution_count": 104
        }
      ]
    }
  ]
}